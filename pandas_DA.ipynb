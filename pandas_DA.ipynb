{
 "cells": [
  {
   "cell_type": "code",
   "execution_count": 1,
   "id": "39bdaec2-ef05-4e9d-82ec-5650be3df584",
   "metadata": {},
   "outputs": [
    {
     "name": "stdout",
     "output_type": "stream",
     "text": [
      "  Product  Price  Quantity\n",
      "0       A    100         3\n",
      "1       B    250         1\n",
      "2       C    300         4\n",
      "3       D    150         2\n",
      "4       E    500         1\n"
     ]
    }
   ],
   "source": [
    "import pandas as pd\n",
    "\n",
    "# Create a simple sales data\n",
    "data = {\n",
    "    'Product': ['A', 'B', 'C', 'D', 'E'],\n",
    "    'Price': [100, 250, 300, 150, 500],\n",
    "    'Quantity': [3, 1, 4, 2, 1]\n",
    "}\n",
    "\n",
    "df = pd.DataFrame(data)\n",
    "print(df)\n"
   ]
  },
  {
   "cell_type": "code",
   "execution_count": 2,
   "id": "76d5fa4e-33b4-4b98-aaca-aed64dc54b53",
   "metadata": {},
   "outputs": [
    {
     "name": "stdout",
     "output_type": "stream",
     "text": [
      "(5, 3)\n",
      "Index(['Product', 'Price', 'Quantity'], dtype='object')\n",
      "<class 'pandas.core.frame.DataFrame'>\n",
      "RangeIndex: 5 entries, 0 to 4\n",
      "Data columns (total 3 columns):\n",
      " #   Column    Non-Null Count  Dtype \n",
      "---  ------    --------------  ----- \n",
      " 0   Product   5 non-null      object\n",
      " 1   Price     5 non-null      int64 \n",
      " 2   Quantity  5 non-null      int64 \n",
      "dtypes: int64(2), object(1)\n",
      "memory usage: 252.0+ bytes\n",
      "None\n",
      "            Price  Quantity\n",
      "count    5.000000   5.00000\n",
      "mean   260.000000   2.20000\n",
      "std    155.724115   1.30384\n",
      "min    100.000000   1.00000\n",
      "25%    150.000000   1.00000\n",
      "50%    250.000000   2.00000\n",
      "75%    300.000000   3.00000\n",
      "max    500.000000   4.00000\n"
     ]
    }
   ],
   "source": [
    "print(df.shape)        # (rows, columns)\n",
    "print(df.columns)      # List of column names\n",
    "print(df.info())       # Structure of the DataFrame\n",
    "print(df.describe())   # Summary statistics\n"
   ]
  },
  {
   "cell_type": "code",
   "execution_count": 6,
   "id": "8ca5f28b-a4b6-4eed-8940-d29dbe171fd3",
   "metadata": {},
   "outputs": [
    {
     "name": "stdout",
     "output_type": "stream",
     "text": [
      "  Product  Price  Quantity  Total Sale  Discounted Price  Final Sale\n",
      "0       A    100         3         300              90.0       270.0\n",
      "1       B    250         1         250             225.0       225.0\n",
      "2       C    300         4        1200             270.0      1080.0\n",
      "3       D    150         2         300             135.0       270.0\n",
      "4       E    500         1         500             450.0       450.0\n"
     ]
    }
   ],
   "source": [
    "df['Total Sale'] = df['Price'] * df['Quantity']\n",
    "df['Discounted Price'] = df['Price'] * 0.9\n",
    "df['Final Sale'] = df['Discounted Price'] * df['Quantity']\n",
    "print(df)"
   ]
  },
  {
   "cell_type": "code",
   "execution_count": 7,
   "id": "fcec19c6-62f1-40a0-832b-a3e709102b14",
   "metadata": {},
   "outputs": [
    {
     "name": "stdout",
     "output_type": "stream",
     "text": [
      "  Product  Price  Quantity  Total Sale  Discounted Price  Final Sale\n",
      "1       B    250         1         250             225.0       225.0\n",
      "2       C    300         4        1200             270.0      1080.0\n",
      "4       E    500         1         500             450.0       450.0\n",
      "  Product  Price  Quantity  Total Sale  Discounted Price  Final Sale\n",
      "2       C    300         4        1200             270.0      1080.0\n",
      "4       E    500         1         500             450.0       450.0\n"
     ]
    }
   ],
   "source": [
    "# Products with price > 200\n",
    "print(df[df['Price'] > 200])\n",
    "\n",
    "# Products with total sale > 300\n",
    "print(df[df['Total Sale'] > 300])\n"
   ]
  },
  {
   "cell_type": "code",
   "execution_count": 9,
   "id": "777e28c6-32c0-4c3f-90a2-4bdd97010bbc",
   "metadata": {},
   "outputs": [
    {
     "name": "stdout",
     "output_type": "stream",
     "text": [
      "  Product  Price  Quantity  Total Sale  Final Sale\n",
      "2       C    300         4        1200      1080.0\n",
      "4       E    500         1         500       450.0\n",
      "0       A    100         3         300       270.0\n",
      "3       D    150         2         300       270.0\n",
      "1       B    250         1         250       225.0\n"
     ]
    }
   ],
   "source": [
    "df = df.sort_values(by='Total Sale', ascending=False)\n",
    "df = df[['Product', 'Price', 'Quantity', 'Total Sale', 'Final Sale']]  # Reorder columns\n",
    "print(df)\n"
   ]
  },
  {
   "cell_type": "code",
   "execution_count": 10,
   "id": "b1a2ae46-0ce8-4f74-b8cf-75de450751b3",
   "metadata": {},
   "outputs": [
    {
     "name": "stdout",
     "output_type": "stream",
     "text": [
      "   Product  Price  Quantity  Total Sale  Final Sale\n",
      "2    False   True     False       False       False\n",
      "4    False  False     False       False       False\n",
      "0    False  False     False       False       False\n",
      "3    False  False     False       False       False\n",
      "1    False  False     False       False       False\n"
     ]
    }
   ],
   "source": [
    "df.loc[2, 'Price'] = None  # Add missing value\n",
    "\n",
    "# Detect missing\n",
    "print(df.isnull())\n",
    "\n",
    "# Fill missing with mean\n",
    "df['Price'] = df['Price'].fillna(df['Price'].mean())\n"
   ]
  },
  {
   "cell_type": "code",
   "execution_count": 11,
   "id": "74416057-a69d-4ede-96df-df2ca1c92a79",
   "metadata": {},
   "outputs": [
    {
     "name": "stdout",
     "output_type": "stream",
     "text": [
      "Category\n",
      "Clothing       1050\n",
      "Electronics    1500\n",
      "Name: Total Sale, dtype: int64\n"
     ]
    }
   ],
   "source": [
    "# Assume new column\n",
    "df['Category'] = ['Electronics', 'Clothing', 'Electronics', 'Clothing', 'Clothing']\n",
    "\n",
    "# Group by Category\n",
    "print(df.groupby('Category')['Total Sale'].sum())\n"
   ]
  },
  {
   "cell_type": "code",
   "execution_count": 13,
   "id": "039968bb-3292-4bb4-abd5-8459c2b7c13b",
   "metadata": {},
   "outputs": [
    {
     "name": "stdout",
     "output_type": "stream",
     "text": [
      "  Product  Price  Quantity  Total Sale  Final Sale     Category\n",
      "2       C  250.0         4        1200      1080.0  Electronics\n",
      "4       E  500.0         1         500       450.0     Clothing\n",
      "0       A  100.0         3         300       270.0  Electronics\n",
      "3       D  150.0         2         300       270.0     Clothing\n",
      "1       B  250.0         1         250       225.0     Clothing\n"
     ]
    }
   ],
   "source": [
    "df.to_csv('sales_data.csv', index=False)  # Save to CSV\n",
    "\n",
    "df_loaded = pd.read_csv('sales_data.csv')  # Load again\n",
    "print(df)\n"
   ]
  },
  {
   "cell_type": "code",
   "execution_count": null,
   "id": "ebaa57f8-1003-4eb5-94fa-92796f23caad",
   "metadata": {},
   "outputs": [],
   "source": []
  }
 ],
 "metadata": {
  "kernelspec": {
   "display_name": "Python 3 (ipykernel)",
   "language": "python",
   "name": "python3"
  },
  "language_info": {
   "codemirror_mode": {
    "name": "ipython",
    "version": 3
   },
   "file_extension": ".py",
   "mimetype": "text/x-python",
   "name": "python",
   "nbconvert_exporter": "python",
   "pygments_lexer": "ipython3",
   "version": "3.11.4"
  }
 },
 "nbformat": 4,
 "nbformat_minor": 5
}

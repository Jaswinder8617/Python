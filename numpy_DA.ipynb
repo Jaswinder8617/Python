{
 "cells": [
  {
   "cell_type": "code",
   "execution_count": null,
   "id": "26054f09-66ad-4ed5-b618-1233e47159ad",
   "metadata": {},
   "outputs": [],
   "source": [
    "import numpy as np\n"
   ]
  },
  {
   "cell_type": "code",
   "execution_count": null,
   "id": "1d7c8d86-7496-483b-a3e7-26cafaa612f6",
   "metadata": {},
   "outputs": [],
   "source": [
    "# Prices in rupees\n",
    "price = np.array([100, 250, 300, 150, 500])\n",
    "\n",
    "# Quantities sold\n",
    "quantity = np.array([3, 1, 4, 2, 1])\n"
   ]
  },
  {
   "cell_type": "code",
   "execution_count": null,
   "id": "d4ed7195-801b-4169-8aa5-8440f7525832",
   "metadata": {},
   "outputs": [
    {
     "name": "stdout",
     "output_type": "stream",
     "text": [
      "Total Sale per Product: [ 300  250 1200  300  500]\n"
     ]
    }
   ],
   "source": [
    "# Element-wise multiplication\n",
    "total_sale = price * quantity\n",
    "print(\"Total Sale per Product:\", total_sale)\n"
   ]
  },
  {
   "cell_type": "code",
   "execution_count": null,
   "id": "7ac14949-952f-492d-968d-642c9fdd633f",
   "metadata": {},
   "outputs": [
    {
     "name": "stdout",
     "output_type": "stream",
     "text": [
      "Total Revenue: 2550\n"
     ]
    }
   ],
   "source": [
    "total_revenue = np.sum(total_sale)\n",
    "print(\"Total Revenue:\", total_revenue)\n"
   ]
  },
  {
   "cell_type": "code",
   "execution_count": null,
   "id": "0a67adab-ff4e-4001-8ff6-baa85a201cc7",
   "metadata": {},
   "outputs": [
    {
     "name": "stdout",
     "output_type": "stream",
     "text": [
      "Average Sale per Product: 510.0\n"
     ]
    }
   ],
   "source": [
    "average_sale = np.mean(total_sale)\n",
    "print(\"Average Sale per Product:\", average_sale)\n"
   ]
  },
  {
   "cell_type": "code",
   "execution_count": null,
   "id": "7bb74f52-518c-476b-bd8e-c4062ec66dc1",
   "metadata": {},
   "outputs": [
    {
     "name": "stdout",
     "output_type": "stream",
     "text": [
      "Max Revenue Product: 1200\n",
      "Min Revenue Product: 250\n"
     ]
    }
   ],
   "source": [
    "print(\"Max Revenue Product:\", np.max(total_sale))\n",
    "print(\"Min Revenue Product:\", np.min(total_sale))"
   ]
  },
  {
   "cell_type": "code",
   "execution_count": null,
   "id": "0a0091a4-fbd0-4171-b20f-a70c857aaf14",
   "metadata": {},
   "outputs": [
    {
     "name": "stdout",
     "output_type": "stream",
     "text": [
      "Final price after 10% discount: [ 90. 225. 270. 135. 450.]\n",
      "Final Sale after discount: [ 270.  225. 1080.  270.  450.]\n"
     ]
    }
   ],
   "source": [
    "discount = 0.10\n",
    "final_price = price - (price * discount)\n",
    "print(\"Final price after 10% discount:\", final_price)\n",
    "\n",
    "# New sale\n",
    "final_sale = final_price * quantity\n",
    "print(\"Final Sale after discount:\", final_sale)\n"
   ]
  },
  {
   "cell_type": "code",
   "execution_count": null,
   "id": "479c8df0-e551-46b2-8105-441609296851",
   "metadata": {},
   "outputs": [
    {
     "name": "stdout",
     "output_type": "stream",
     "text": [
      "Shape of price: (5,)\n",
      "Shape of quantity: (5,)\n",
      "Reshaped Price (5x1):\n",
      " [[100]\n",
      " [250]\n",
      " [300]\n",
      " [150]\n",
      " [500]]\n"
     ]
    }
   ],
   "source": [
    "# Check shapes\n",
    "print(\"Shape of price:\", price.shape)\n",
    "print(\"Shape of quantity:\", quantity.shape)\n",
    "\n",
    "# Reshape to column vector (5,1)\n",
    "price_reshaped = price.reshape(5, 1)\n",
    "print(\"Reshaped Price (5x1):\\n\", price_reshaped)\n"
   ]
  },
  {
   "cell_type": "code",
   "execution_count": null,
   "id": "fe2f2d56-94ff-4043-b731-87256756c836",
   "metadata": {},
   "outputs": [
    {
     "name": "stdout",
     "output_type": "stream",
     "text": [
      "Combined data table:\n",
      " [[1.00e+02 3.00e+00 3.00e+02 2.70e+02]\n",
      " [2.50e+02 1.00e+00 2.50e+02 2.25e+02]\n",
      " [3.00e+02 4.00e+00 1.20e+03 1.08e+03]\n",
      " [1.50e+02 2.00e+00 3.00e+02 2.70e+02]\n",
      " [5.00e+02 1.00e+00 5.00e+02 4.50e+02]]\n"
     ]
    }
   ],
   "source": [
    "# Stack all columns horizontally\n",
    "data = np.column_stack((price, quantity, total_sale, final_sale))\n",
    "print(\"Combined data table:\\n\", data)\n"
   ]
  },
  {
   "cell_type": "code",
   "execution_count": null,
   "id": "6502e1b3-3ea1-431d-a339-3304b5ee933b",
   "metadata": {},
   "outputs": [
    {
     "name": "stdout",
     "output_type": "stream",
     "text": [
      "Prices > 200: [250 300 500]\n",
      "Total sales > 300: [1200  500]\n"
     ]
    }
   ],
   "source": [
    "# Products with price > 200\n",
    "print(\"Prices > 200:\", price[price > 200])\n",
    "\n",
    "# Products where total sale > 300\n",
    "print(\"Total sales > 300:\", total_sale[total_sale > 300])\n"
   ]
  },
  {
   "cell_type": "code",
   "execution_count": null,
   "id": "530caa61-a083-4f74-9060-aa11dca035ef",
   "metadata": {},
   "outputs": [
    {
     "name": "stdout",
     "output_type": "stream",
     "text": [
      "Is NaN present?: [False False  True False False]\n",
      "Cleaned price array: [100. 250. 250. 150. 500.]\n"
     ]
    }
   ],
   "source": [
    "# Introduce missing value\n",
    "price_with_nan = np.array([100, 250, np.nan, 150, 500])\n",
    "print(\"Is NaN present?:\", np.isnan(price_with_nan))\n",
    "\n",
    "# Replace NaN with mean price\n",
    "mean_price = np.nanmean(price_with_nan)\n",
    "cleaned_price = np.nan_to_num(price_with_nan, nan=mean_price)\n",
    "print(\"Cleaned price array:\", cleaned_price)\n"
   ]
  },
  {
   "cell_type": "code",
   "execution_count": null,
   "id": "cc35d310-20dc-4f95-9572-daf501b4babc",
   "metadata": {},
   "outputs": [],
   "source": []
  }
 ],
 "metadata": {
  "kernelspec": {
   "display_name": "Python 3",
   "language": "python",
   "name": "python3"
  },
  "language_info": {
   "codemirror_mode": {
    "name": "ipython",
    "version": 3
   },
   "file_extension": ".py",
   "mimetype": "text/x-python",
   "name": "python",
   "nbconvert_exporter": "python",
   "pygments_lexer": "ipython3",
   "version": "3.11.4"
  }
 },
 "nbformat": 4,
 "nbformat_minor": 5
}
